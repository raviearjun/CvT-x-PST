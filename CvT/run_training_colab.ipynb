{
 "cells": [
  {
   "cell_type": "markdown",
   "id": "fe8453c6",
   "metadata": {},
   "source": [
    "# CvT Fine-tuning untuk Klasifikasi Penyakit Tanaman Padi\n",
    "\n",
    "Notebook ini akan membantu Anda melakukan fine-tuning model CvT-21 untuk klasifikasi penyakit tanaman padi dengan 10 kelas (9 penyakit + 1 normal).\n",
    "\n",
    "## Persiapan Manual:\n",
    "1. **Clone repository** ini ke Colab\n",
    "2. **Download dataset** Anda dan letakkan di `/content/CvT/paddy_disease_dataset/`\n",
    "3. **Download pretrained weights** `CvT-21-224x224-IN-1k.pth` dan letakkan di `/content/CvT/`\n",
    "\n",
    "### Struktur yang diharapkan:\n",
    "```\n",
    "/content/CvT/\n",
    "├── paddy_disease_dataset/\n",
    "│   ├── train/\n",
    "│   │   ├── class1/\n",
    "│   │   └── class2/\n",
    "│   └── val/\n",
    "│       ├── class1/\n",
    "│       └── class2/\n",
    "└── CvT-21-224x224-IN-1k.pth\n",
    "```"
   ]
  },
  {
   "cell_type": "markdown",
   "id": "5c36f55f",
   "metadata": {},
   "source": [
    "## 1. Mount Google Drive"
   ]
  },
  {
   "cell_type": "code",
   "execution_count": null,
   "id": "e3dcc4dc",
   "metadata": {},
   "outputs": [],
   "source": [
    "# Clone repository CvT\n",
    "!git clone https://github.com/raviearjun/CvT.git\n",
    "%cd CvT\n",
    "\n",
    "# Install dependencies\n",
    "!pip install -r requirements.txt\n",
    "\n",
    "# Verify installation\n",
    "import torch\n",
    "import torchvision\n",
    "print(f\"PyTorch version: {torch.__version__}\")\n",
    "print(f\"CUDA available: {torch.cuda.is_available()}\")\n",
    "if torch.cuda.is_available():\n",
    "    print(f\"CUDA device: {torch.cuda.get_device_name(0)}\")\n",
    "\n",
    "print(\"\\n⚠️  MANUAL SETUP REQUIRED:\")\n",
    "print(\"1. Download your paddy disease dataset\")\n",
    "print(\"2. Extract to: /content/CvT/paddy_disease_dataset/\")\n",
    "print(\"3. Download CvT-21-224x224-IN-1k.pth to: /content/CvT/\")\n",
    "print(\"4. Then continue to next cell\")"
   ]
  },
  {
   "cell_type": "markdown",
   "id": "ca79dc2c",
   "metadata": {},
   "source": [
    "## 1. Clone Repository dan Setup Environment"
   ]
  },
  {
   "cell_type": "code",
   "execution_count": null,
   "id": "29afa177",
   "metadata": {},
   "outputs": [],
   "source": [
    "# Clone repository CvT\n",
    "!git clone https://github.com/microsoft/CvT.git\n",
    "%cd CvT\n",
    "\n",
    "# Install dependencies\n",
    "!pip install -r requirements.txt\n",
    "\n",
    "# Verify installation\n",
    "import torch\n",
    "import torchvision\n",
    "print(f\"PyTorch version: {torch.__version__}\")\n",
    "print(f\"CUDA available: {torch.cuda.is_available()}\")\n",
    "if torch.cuda.is_available():\n",
    "    print(f\"CUDA device: {torch.cuda.get_device_name(0)}\")"
   ]
  },
  {
   "cell_type": "markdown",
   "id": "fd1982d6",
   "metadata": {},
   "source": [
    "## 2. Verifikasi Dataset dan Weights"
   ]
  },
  {
   "cell_type": "code",
   "execution_count": null,
   "id": "891833b1",
   "metadata": {},
   "outputs": [],
   "source": [
    "import os\n",
    "\n",
    "# Buat direktori untuk output\n",
    "!mkdir -p /content/output\n",
    "\n",
    "# Verify dataset structure\n",
    "print(\"🔍 Checking dataset...\")\n",
    "dataset_path = \"/content/CvT/paddy_disease_dataset\"\n",
    "weights_path = \"/content/CvT/CvT-21-224x224-IN-1k.pth\"\n",
    "\n",
    "if os.path.exists(dataset_path):\n",
    "    print(\"✅ Dataset directory found\")\n",
    "    \n",
    "    # Check train, val, and test directories\n",
    "    for split in ['train', 'val', 'test']:\n",
    "        split_path = os.path.join(dataset_path, split)\n",
    "        if os.path.exists(split_path):\n",
    "            classes = [d for d in os.listdir(split_path) if os.path.isdir(os.path.join(split_path, d))]\n",
    "            print(f\"✅ {split}: {len(classes)} classes found\")\n",
    "            if len(classes) > 0:\n",
    "                print(f\"   Classes: {classes}\")\n",
    "        else:\n",
    "            print(f\"❌ {split} directory not found!\")\n",
    "else:\n",
    "    print(\"❌ Dataset directory not found!\")\n",
    "    print(\"   Please ensure dataset is placed at:\", dataset_path)\n",
    "\n",
    "# Verify weights file\n",
    "if os.path.exists(weights_path):\n",
    "    print(\"✅ Pretrained weights found\")\n",
    "else:\n",
    "    print(\"❌ Pretrained weights not found!\")\n",
    "    print(\"   Please ensure weights file is at:\", weights_path)\n",
    "\n",
    "print(\"\\n📊 File structure:\")\n",
    "!ls -la /content/CvT/"
   ]
  },
  {
   "cell_type": "markdown",
   "id": "d6532162",
   "metadata": {},
   "source": [
    "## 3. Verifikasi Konfigurasi"
   ]
  },
  {
   "cell_type": "code",
   "execution_count": null,
   "id": "abf9b7a7",
   "metadata": {},
   "outputs": [],
   "source": [
    "# Tampilkan konfigurasi yang akan digunakan\n",
    "!cat /content/CvT/experiments/imagenet/cvt/cvt-21-224x224_paddy_dataset.yaml"
   ]
  },
  {
   "cell_type": "markdown",
   "id": "2e032dd9",
   "metadata": {},
   "source": [
    "## 4. Hitung Jumlah Data per Kelas"
   ]
  },
  {
   "cell_type": "code",
   "execution_count": null,
   "id": "367e5e4d",
   "metadata": {},
   "outputs": [],
   "source": [
    "import os\n",
    "\n",
    "def count_images_per_class(dataset_path):\n",
    "    \"\"\"Hitung jumlah gambar per kelas\"\"\"\n",
    "    for split in ['train', 'val', 'test']:\n",
    "        split_path = os.path.join(dataset_path, split)\n",
    "        if os.path.exists(split_path):\n",
    "            print(f\"\\n{split.upper()} Dataset:\")\n",
    "            print(\"-\" * 30)\n",
    "            total = 0\n",
    "            for class_name in sorted(os.listdir(split_path)):\n",
    "                class_path = os.path.join(split_path, class_name)\n",
    "                if os.path.isdir(class_path):\n",
    "                    count = len([f for f in os.listdir(class_path) \n",
    "                               if f.lower().endswith(('.png', '.jpg', '.jpeg'))])\n",
    "                    print(f\"{class_name}: {count} images\")\n",
    "                    total += count\n",
    "            print(f\"Total: {total} images\")\n",
    "        else:\n",
    "            print(f\"\\n{split.upper()} Dataset: NOT FOUND\")\n",
    "\n",
    "count_images_per_class('/content/CvT/paddy_disease_dataset')"
   ]
  },
  {
   "cell_type": "markdown",
   "id": "81ccfcde",
   "metadata": {},
   "source": [
    "## 6. Mulai Training"
   ]
  },
  {
   "cell_type": "code",
   "execution_count": null,
   "id": "18379cab",
   "metadata": {},
   "outputs": [],
   "source": [
    "# Mulai training dengan konfigurasi cvt-21-224x224.yaml yang sudah diedit\n",
    "!python tools/train.py \\\n",
    "    --cfg experiments/imagenet/cvt/cvt-21-224x224.yaml \\\n",
    "    --output /content/output \\\n",
    "    --log-dir /content/output"
   ]
  },
  {
   "cell_type": "markdown",
   "id": "f8c4f4a9",
   "metadata": {},
   "source": [
    "## 7. Monitor Training Progress"
   ]
  },
  {
   "cell_type": "code",
   "execution_count": null,
   "id": "41bf1640",
   "metadata": {},
   "outputs": [],
   "source": [
    "# Lihat log training terakhir\n",
    "!tail -n 50 /content/output/log.txt"
   ]
  },
  {
   "cell_type": "markdown",
   "id": "a37f2a1a",
   "metadata": {},
   "source": [
    "## 8. Evaluasi Model Terbaik"
   ]
  },
  {
   "cell_type": "code",
   "execution_count": null,
   "id": "ca7f7f5a",
   "metadata": {},
   "outputs": [],
   "source": [
    "# Cari model dengan accuracy terbaik\n",
    "!ls -la /content/output/\n",
    "\n",
    "    \"# Evaluasi model terbaik\n",
    "\",\n",
    "    \"!python tools/test.py \n",
    "\",\n",
    "    \"    --cfg experiments/imagenet/cvt/cvt-21-224x224.yaml \n",
    "\",\n",
    "    \"    --model-file /content/output/best.pth \n",
    "\",\n",
    "    \"    --output /content/output/test_results\""
   ]
  },
  {
   "cell_type": "markdown",
   "id": "dd2dbb5c",
   "metadata": {},
   "source": [
    "## 9. Visualisasi Hasil Training"
   ]
  },
  {
   "cell_type": "code",
   "execution_count": null,
   "id": "436f9770",
   "metadata": {},
   "outputs": [],
   "source": [
    "import matplotlib.pyplot as plt\n",
    "import re\n",
    "\n",
    "def parse_log_file(log_path):\n",
    "    \"\"\"Parse log file untuk mendapatkan loss dan accuracy\"\"\"\n",
    "    epochs = []\n",
    "    train_losses = []\n",
    "    val_accs = []\n",
    "    \n",
    "    try:\n",
    "        with open(log_path, 'r') as f:\n",
    "            lines = f.readlines()\n",
    "            \n",
    "        for line in lines:\n",
    "            # Parse training loss\n",
    "            if 'Epoch:' in line and 'Loss' in line:\n",
    "                epoch_match = re.search(r'Epoch: \\[(\\d+)\\]', line)\n",
    "                loss_match = re.search(r'Loss ([\\d\\.]+)', line)\n",
    "                if epoch_match and loss_match:\n",
    "                    epoch = int(epoch_match.group(1))\n",
    "                    loss = float(loss_match.group(1))\n",
    "                    if epoch not in [e for e, _, _ in zip(epochs, train_losses, val_accs)]:\n",
    "                        epochs.append(epoch)\n",
    "                        train_losses.append(loss)\n",
    "            \n",
    "            # Parse validation accuracy\n",
    "            if 'Test:' in line and 'Acc@1' in line:\n",
    "                acc_match = re.search(r'Acc@1 ([\\d\\.]+)', line)\n",
    "                if acc_match:\n",
    "                    acc = float(acc_match.group(1))\n",
    "                    if len(val_accs) < len(epochs):\n",
    "                        val_accs.append(acc)\n",
    "    \n",
    "    except FileNotFoundError:\n",
    "        print(\"Log file not found. Training might still be in progress.\")\n",
    "        return [], [], []\n",
    "    \n",
    "    return epochs, train_losses, val_accs\n",
    "\n",
    "# Parse log dan plot hasil\n",
    "epochs, train_losses, val_accs = parse_log_file('/content/output/log.txt')\n",
    "\n",
    "if epochs:\n",
    "    fig, (ax1, ax2) = plt.subplots(1, 2, figsize=(15, 5))\n",
    "    \n",
    "    # Plot training loss\n",
    "    ax1.plot(epochs[:len(train_losses)], train_losses, 'b-', label='Training Loss')\n",
    "    ax1.set_xlabel('Epoch')\n",
    "    ax1.set_ylabel('Loss')\n",
    "    ax1.set_title('Training Loss')\n",
    "    ax1.legend()\n",
    "    ax1.grid(True)\n",
    "    \n",
    "    # Plot validation accuracy\n",
    "    if val_accs:\n",
    "        ax2.plot(epochs[:len(val_accs)], val_accs, 'r-', label='Validation Accuracy')\n",
    "        ax2.set_xlabel('Epoch')\n",
    "        ax2.set_ylabel('Accuracy (%)')\n",
    "        ax2.set_title('Validation Accuracy')\n",
    "        ax2.legend()\n",
    "        ax2.grid(True)\n",
    "    \n",
    "    plt.tight_layout()\n",
    "    plt.show()\n",
    "    \n",
    "    print(f\"Training completed for {len(epochs)} epochs\")\n",
    "    if val_accs:\n",
    "        print(f\"Best validation accuracy: {max(val_accs):.2f}%\")\n",
    "else:\n",
    "    print(\"No training data found in log file.\")"
   ]
  },
  {
   "cell_type": "markdown",
   "id": "2a224ee0",
   "metadata": {},
   "source": [
    "## 10. Backup Model ke Google Drive"
   ]
  },
  {
   "cell_type": "code",
   "execution_count": null,
   "id": "ea83c3a3",
   "metadata": {},
   "outputs": [],
   "source": [
    "# Buat archive untuk download hasil training\n",
    "import shutil\n",
    "from google.colab import files\n",
    "\n",
    "print(\"📦 Preparing results for download...\")\n",
    "\n",
    "# Create archive of training results\n",
    "archive_name = \"cvt_paddy_training_results\"\n",
    "shutil.make_archive(f\"/content/{archive_name}\", 'zip', '/content/output')\n",
    "\n",
    "# Copy config file to output for archiving\n",
    "!cp /content/CvT/experiments/imagenet/cvt/cvt-21-224x224_paddy_dataset.yaml /content/output/\n",
    "\n",
    "print(\"✅ Results archived successfully!\")\n",
    "print(\"\\n📁 Training results summary:\")\n",
    "!ls -la /content/output/\n",
    "\n",
    "print(f\"\\n💾 Download your results:\")\n",
    "print(\"1. Training archive (semua file):\")\n",
    "files.download(f\"/content/{archive_name}.zip\")\n",
    "\n",
    "print(\"\\n2. Download individual files:\")\n",
    "print(\"   - Best model: /content/output/best.pth\")\n",
    "print(\"   - Latest model: /content/output/latest.pth\") \n",
    "print(\"   - Training log: /content/output/log.txt\")\n",
    "\n",
    "# Optionally download individual important files\n",
    "download_individual = input(\"\\nDownload individual files? (y/n): \")\n",
    "if download_individual.lower() == 'y':\n",
    "    try:\n",
    "        files.download(\"/content/output/best.pth\")\n",
    "        files.download(\"/content/output/log.txt\")\n",
    "        print(\"✅ Individual files downloaded!\")\n",
    "    except:\n",
    "        print(\"ℹ️  Some files may not exist yet or download was cancelled\")"
   ]
  },
  {
   "cell_type": "markdown",
   "id": "a8a8655d",
   "metadata": {},
   "source": [
    "## 11. Inference pada Gambar Baru"
   ]
  },
  {
   "cell_type": "code",
   "execution_count": null,
   "id": "9e6969f5",
   "metadata": {},
   "outputs": [],
   "source": [
    "import torch\n",
    "import torchvision.transforms as transforms\n",
    "from PIL import Image\n",
    "import numpy as np\n",
    "\n",
    "# Daftar kelas penyakit padi (sesuaikan dengan dataset Anda)\n",
    "class_names = [\n",
    "    'bacterial_leaf_blight',\n",
    "    'bacterial_leaf_streak', \n",
    "    'bacterial_panicle_blight',\n",
    "    'blast',\n",
    "    'brown_spot',\n",
    "    'dead_heart',\n",
    "    'downy_mildew',\n",
    "    'hispa',\n",
    "    'normal',\n",
    "    'tungro'\n",
    "]  # Ubah sesuai dengan kelas dataset Anda\n",
    "\n",
    "def predict_image(image_path, model_path):\n",
    "    \"\"\"Prediksi kelas untuk satu gambar\"\"\"\n",
    "    # Load model\n",
    "    # Implementasi ini memerlukan modifikasi pada tools/test.py untuk inference\n",
    "    # Untuk saat ini, gunakan tools/test.py untuk evaluasi batch\n",
    "    \n",
    "    \"    print(f\"Untuk melakukan inference pada gambar tunggal, gunakan:\")\n",
    "\",\n",
    "    \"    print(f\"python tools/test.py --cfg experiments/imagenet/cvt/cvt-21-224x224.yaml --model-file {model_path} --image {image_path}\")\"\n",
    "\n",
    "# Contoh penggunaan (uncomment jika Anda memiliki gambar test)\n",
    "# predict_image('/content/test_image.jpg', '/content/output/best.pth')"
   ]
  }
 ],
 "metadata": {
  "language_info": {
   "name": "python"
  }
 },
 "nbformat": 4,
 "nbformat_minor": 5
}
